{
 "cells": [
  {
   "cell_type": "code",
   "execution_count": 1,
   "id": "9254e2d7-faaa-47e8-bece-07eee28bbb56",
   "metadata": {},
   "outputs": [],
   "source": [
    "import pandas as pd\n",
    "import numpy as np"
   ]
  },
  {
   "cell_type": "code",
   "execution_count": 2,
   "id": "3c699a61-fcbb-48b0-95d6-00b44d563152",
   "metadata": {},
   "outputs": [],
   "source": [
    "weather = pd.read_csv(\"jena_climate_2009_2016.csv\", parse_dates=[\"Date Time\"])"
   ]
  },
  {
   "cell_type": "code",
   "execution_count": 3,
   "id": "beb32d33-4279-41b9-9312-ae55afb4fe49",
   "metadata": {},
   "outputs": [
    {
     "name": "stdout",
     "output_type": "stream",
     "text": [
      "preview\n",
      "             Date Time  p (mbar)  T (degC)  Tpot (K)  Tdew (degC)  rh (%)  \\\n",
      "0  01.01.2009 00:10:00    996.52     -8.02    265.40        -8.90    93.3   \n",
      "1  01.01.2009 00:20:00    996.57     -8.41    265.01        -9.28    93.4   \n",
      "\n",
      "   VPmax (mbar)  VPact (mbar)  VPdef (mbar)  sh (g/kg)  H2OC (mmol/mol)  \\\n",
      "0          3.33          3.11          0.22       1.94             3.12   \n",
      "1          3.23          3.02          0.21       1.89             3.03   \n",
      "\n",
      "   rho (g/m**3)  wv (m/s)  max. wv (m/s)  wd (deg)  \n",
      "0       1307.75      1.03           1.75     152.3  \n",
      "1       1309.80      0.72           1.50     136.1  \n",
      "======================================================================\n",
      "<class 'pandas.core.frame.DataFrame'>\n",
      "RangeIndex: 420551 entries, 0 to 420550\n",
      "Data columns (total 15 columns):\n",
      " #   Column           Non-Null Count   Dtype  \n",
      "---  ------           --------------   -----  \n",
      " 0   Date Time        420551 non-null  object \n",
      " 1   p (mbar)         420551 non-null  float64\n",
      " 2   T (degC)         420551 non-null  float64\n",
      " 3   Tpot (K)         420551 non-null  float64\n",
      " 4   Tdew (degC)      420551 non-null  float64\n",
      " 5   rh (%)           420551 non-null  float64\n",
      " 6   VPmax (mbar)     420551 non-null  float64\n",
      " 7   VPact (mbar)     420551 non-null  float64\n",
      " 8   VPdef (mbar)     420551 non-null  float64\n",
      " 9   sh (g/kg)        420551 non-null  float64\n",
      " 10  H2OC (mmol/mol)  420551 non-null  float64\n",
      " 11  rho (g/m**3)     420551 non-null  float64\n",
      " 12  wv (m/s)         420551 non-null  float64\n",
      " 13  max. wv (m/s)    420551 non-null  float64\n",
      " 14  wd (deg)         420551 non-null  float64\n",
      "dtypes: float64(14), object(1)\n",
      "memory usage: 48.1+ MB\n",
      "None\n"
     ]
    }
   ],
   "source": [
    "print(\"preview\")\n",
    "print(weather.head(2))\n",
    "print(\"=\"*70)\n",
    "\n",
    "\n",
    "print(weather.info())"
   ]
  },
  {
   "cell_type": "code",
   "execution_count": 4,
   "id": "e8b6157b-d61a-4532-aa92-8cb315be5c85",
   "metadata": {},
   "outputs": [],
   "source": [
    "weather[\"Date Time\"] = weather[\"Date Time\"].str.replace(\".\", \"-\")\n",
    "weather[\"Date Time\"] = pd.to_datetime(weather[\"Date Time\"], format='%d-%m-%Y %H:%M:%S')"
   ]
  },
  {
   "cell_type": "code",
   "execution_count": 5,
   "id": "306c3e3f-6a1e-4147-9144-80dde65cbf1b",
   "metadata": {},
   "outputs": [],
   "source": [
    "for c in weather.columns:\n",
    "    if str(weather[c].dtype) == \"float64\":\n",
    "        weather[c] = weather[c].astype(np.float16)\n",
    "\n",
    "weather['Date Time'] = weather[\"Date Time\"].astype('datetime64[s]')"
   ]
  },
  {
   "cell_type": "code",
   "execution_count": 6,
   "id": "5eda6ce5-c3ab-4526-b0d7-9ce12e9b1d56",
   "metadata": {},
   "outputs": [
    {
     "name": "stdout",
     "output_type": "stream",
     "text": [
      "<class 'pandas.core.frame.DataFrame'>\n",
      "RangeIndex: 420551 entries, 0 to 420550\n",
      "Data columns (total 15 columns):\n",
      " #   Column           Non-Null Count   Dtype        \n",
      "---  ------           --------------   -----        \n",
      " 0   Date Time        420551 non-null  datetime64[s]\n",
      " 1   p (mbar)         420551 non-null  float16      \n",
      " 2   T (degC)         420551 non-null  float16      \n",
      " 3   Tpot (K)         420551 non-null  float16      \n",
      " 4   Tdew (degC)      420551 non-null  float16      \n",
      " 5   rh (%)           420551 non-null  float16      \n",
      " 6   VPmax (mbar)     420551 non-null  float16      \n",
      " 7   VPact (mbar)     420551 non-null  float16      \n",
      " 8   VPdef (mbar)     420551 non-null  float16      \n",
      " 9   sh (g/kg)        420551 non-null  float16      \n",
      " 10  H2OC (mmol/mol)  420551 non-null  float16      \n",
      " 11  rho (g/m**3)     420551 non-null  float16      \n",
      " 12  wv (m/s)         420551 non-null  float16      \n",
      " 13  max. wv (m/s)    420551 non-null  float16      \n",
      " 14  wd (deg)         420551 non-null  float16      \n",
      "dtypes: datetime64[s](1), float16(14)\n",
      "memory usage: 14.4 MB\n"
     ]
    }
   ],
   "source": [
    "weather.info()"
   ]
  },
  {
   "cell_type": "code",
   "execution_count": 7,
   "id": "12d5343a-989d-4af5-876f-454f0d4dc4ea",
   "metadata": {},
   "outputs": [
    {
     "data": {
      "text/plain": [
       "Index(['Date Time', 'p (mbar)', 'T (degC)', 'Tpot (K)', 'Tdew (degC)',\n",
       "       'rh (%)', 'VPmax (mbar)', 'VPact (mbar)', 'VPdef (mbar)', 'sh (g/kg)',\n",
       "       'H2OC (mmol/mol)', 'rho (g/m**3)', 'wv (m/s)', 'max. wv (m/s)',\n",
       "       'wd (deg)'],\n",
       "      dtype='object')"
      ]
     },
     "execution_count": 7,
     "metadata": {},
     "output_type": "execute_result"
    }
   ],
   "source": [
    "weather.columns"
   ]
  },
  {
   "cell_type": "code",
   "execution_count": 11,
   "id": "76b082ae-d1b7-41ec-be95-eabf30e0222e",
   "metadata": {},
   "outputs": [],
   "source": [
    "columns_map = {\n",
    "    'Date Time': 'datetime',\n",
    "    'p (mbar)': 'pressure (mbar)',\n",
    "    'T (degC)': 'temperature (celsius)',\n",
    "    'Tpot (K)': 'potential_temperature (kelvin)',\n",
    "    'Tdew (degC)': 'dew_point (celsius)',\n",
    "    'rh (%)': 'relative_humidity (%)',\n",
    "    'VPmax (mbar)': 'max_vapor_pressure (mbar)',\n",
    "    'VPact (mbar)': 'actual_vapor_pressure (mbar)',\n",
    "    'VPdef (mbar)': 'vapor_pressure_deficit (mbar)',\n",
    "    'sh (g/kg)': 'specific_humidity (g/kg)',\n",
    "    'H2OC (mmol/mol)': 'water_concentration (mmol/mol)',\n",
    "    'rho (g/m**3)': 'air_density (g/m**3)',\n",
    "    'wv (m/s)': 'wind_speed (m/s)',\n",
    "    'max. wv (m/s)': 'max_wind_speed (m/s)',\n",
    "    'wd (deg)': 'wind_direction (degrees)'\n",
    "}\n",
    "\n",
    "# Update column names\n",
    "weather.rename(columns=columns_map, inplace=True)"
   ]
  },
  {
   "cell_type": "code",
   "execution_count": 12,
   "id": "87efd0c7-28ec-4b36-98d3-053a5b102398",
   "metadata": {},
   "outputs": [
    {
     "name": "stderr",
     "output_type": "stream",
     "text": [
      "C:\\Users\\DELL\\Desktop\\Docs\\DataCamp\\work\\venv\\Lib\\site-packages\\pandas\\io\\formats\\format.py:1458: RuntimeWarning: overflow encountered in cast\n",
      "  has_large_values = (abs_vals > 1e6).any()\n"
     ]
    },
    {
     "data": {
      "text/html": [
       "<div>\n",
       "<style scoped>\n",
       "    .dataframe tbody tr th:only-of-type {\n",
       "        vertical-align: middle;\n",
       "    }\n",
       "\n",
       "    .dataframe tbody tr th {\n",
       "        vertical-align: top;\n",
       "    }\n",
       "\n",
       "    .dataframe thead th {\n",
       "        text-align: right;\n",
       "    }\n",
       "</style>\n",
       "<table border=\"1\" class=\"dataframe\">\n",
       "  <thead>\n",
       "    <tr style=\"text-align: right;\">\n",
       "      <th></th>\n",
       "      <th>datetime</th>\n",
       "      <th>pressure (mbar)</th>\n",
       "      <th>temperature (celsius)</th>\n",
       "      <th>potential_temperature (kelvin)</th>\n",
       "      <th>dew_point (celsius)</th>\n",
       "      <th>relative_humidity (%)</th>\n",
       "      <th>max_vapor_pressure (mbar)</th>\n",
       "      <th>actual_vapor_pressure (mbar)</th>\n",
       "      <th>vapor_pressure_deficit (mbar)</th>\n",
       "      <th>specific_humidity (g/kg)</th>\n",
       "      <th>water_concentration (mmol/mol)</th>\n",
       "      <th>air_density (g/m**3)</th>\n",
       "      <th>wind_speed (m/s)</th>\n",
       "      <th>max_wind_speed (m/s)</th>\n",
       "      <th>wind_direction (degrees)</th>\n",
       "    </tr>\n",
       "  </thead>\n",
       "  <tbody>\n",
       "    <tr>\n",
       "      <th>0</th>\n",
       "      <td>2009-01-01 00:10:00</td>\n",
       "      <td>996.5</td>\n",
       "      <td>-8.023438</td>\n",
       "      <td>265.50</td>\n",
       "      <td>-8.898438</td>\n",
       "      <td>93.3125</td>\n",
       "      <td>3.330078</td>\n",
       "      <td>3.109375</td>\n",
       "      <td>0.219971</td>\n",
       "      <td>1.940430</td>\n",
       "      <td>3.119141</td>\n",
       "      <td>1308.0</td>\n",
       "      <td>1.030273</td>\n",
       "      <td>1.750000</td>\n",
       "      <td>152.250</td>\n",
       "    </tr>\n",
       "    <tr>\n",
       "      <th>1</th>\n",
       "      <td>2009-01-01 00:20:00</td>\n",
       "      <td>996.5</td>\n",
       "      <td>-8.406250</td>\n",
       "      <td>265.00</td>\n",
       "      <td>-9.281250</td>\n",
       "      <td>93.3750</td>\n",
       "      <td>3.230469</td>\n",
       "      <td>3.019531</td>\n",
       "      <td>0.209961</td>\n",
       "      <td>1.889648</td>\n",
       "      <td>3.029297</td>\n",
       "      <td>1310.0</td>\n",
       "      <td>0.720215</td>\n",
       "      <td>1.500000</td>\n",
       "      <td>136.125</td>\n",
       "    </tr>\n",
       "    <tr>\n",
       "      <th>2</th>\n",
       "      <td>2009-01-01 00:30:00</td>\n",
       "      <td>996.5</td>\n",
       "      <td>-8.507812</td>\n",
       "      <td>265.00</td>\n",
       "      <td>-9.312500</td>\n",
       "      <td>93.8750</td>\n",
       "      <td>3.210938</td>\n",
       "      <td>3.009766</td>\n",
       "      <td>0.199951</td>\n",
       "      <td>1.879883</td>\n",
       "      <td>3.019531</td>\n",
       "      <td>1310.0</td>\n",
       "      <td>0.189941</td>\n",
       "      <td>0.629883</td>\n",
       "      <td>171.625</td>\n",
       "    </tr>\n",
       "    <tr>\n",
       "      <th>3</th>\n",
       "      <td>2009-01-01 00:40:00</td>\n",
       "      <td>996.5</td>\n",
       "      <td>-8.312500</td>\n",
       "      <td>265.00</td>\n",
       "      <td>-9.070312</td>\n",
       "      <td>94.1875</td>\n",
       "      <td>3.259766</td>\n",
       "      <td>3.070312</td>\n",
       "      <td>0.189941</td>\n",
       "      <td>1.919922</td>\n",
       "      <td>3.080078</td>\n",
       "      <td>1309.0</td>\n",
       "      <td>0.340088</td>\n",
       "      <td>0.500000</td>\n",
       "      <td>198.000</td>\n",
       "    </tr>\n",
       "    <tr>\n",
       "      <th>4</th>\n",
       "      <td>2009-01-01 00:50:00</td>\n",
       "      <td>996.5</td>\n",
       "      <td>-8.273438</td>\n",
       "      <td>265.25</td>\n",
       "      <td>-9.039062</td>\n",
       "      <td>94.1250</td>\n",
       "      <td>3.269531</td>\n",
       "      <td>3.080078</td>\n",
       "      <td>0.189941</td>\n",
       "      <td>1.919922</td>\n",
       "      <td>3.089844</td>\n",
       "      <td>1309.0</td>\n",
       "      <td>0.320068</td>\n",
       "      <td>0.629883</td>\n",
       "      <td>214.250</td>\n",
       "    </tr>\n",
       "  </tbody>\n",
       "</table>\n",
       "</div>"
      ],
      "text/plain": [
       "             datetime  pressure (mbar)  temperature (celsius)  \\\n",
       "0 2009-01-01 00:10:00            996.5              -8.023438   \n",
       "1 2009-01-01 00:20:00            996.5              -8.406250   \n",
       "2 2009-01-01 00:30:00            996.5              -8.507812   \n",
       "3 2009-01-01 00:40:00            996.5              -8.312500   \n",
       "4 2009-01-01 00:50:00            996.5              -8.273438   \n",
       "\n",
       "   potential_temperature (kelvin)  dew_point (celsius)  relative_humidity (%)  \\\n",
       "0                          265.50            -8.898438                93.3125   \n",
       "1                          265.00            -9.281250                93.3750   \n",
       "2                          265.00            -9.312500                93.8750   \n",
       "3                          265.00            -9.070312                94.1875   \n",
       "4                          265.25            -9.039062                94.1250   \n",
       "\n",
       "   max_vapor_pressure (mbar)  actual_vapor_pressure (mbar)  \\\n",
       "0                   3.330078                      3.109375   \n",
       "1                   3.230469                      3.019531   \n",
       "2                   3.210938                      3.009766   \n",
       "3                   3.259766                      3.070312   \n",
       "4                   3.269531                      3.080078   \n",
       "\n",
       "   vapor_pressure_deficit (mbar)  specific_humidity (g/kg)  \\\n",
       "0                       0.219971                  1.940430   \n",
       "1                       0.209961                  1.889648   \n",
       "2                       0.199951                  1.879883   \n",
       "3                       0.189941                  1.919922   \n",
       "4                       0.189941                  1.919922   \n",
       "\n",
       "   water_concentration (mmol/mol)  air_density (g/m**3)  wind_speed (m/s)  \\\n",
       "0                        3.119141                1308.0          1.030273   \n",
       "1                        3.029297                1310.0          0.720215   \n",
       "2                        3.019531                1310.0          0.189941   \n",
       "3                        3.080078                1309.0          0.340088   \n",
       "4                        3.089844                1309.0          0.320068   \n",
       "\n",
       "   max_wind_speed (m/s)  wind_direction (degrees)  \n",
       "0              1.750000                   152.250  \n",
       "1              1.500000                   136.125  \n",
       "2              0.629883                   171.625  \n",
       "3              0.500000                   198.000  \n",
       "4              0.629883                   214.250  "
      ]
     },
     "execution_count": 12,
     "metadata": {},
     "output_type": "execute_result"
    }
   ],
   "source": [
    "weather.head()"
   ]
  },
  {
   "cell_type": "code",
   "execution_count": 13,
   "id": "9f6697ad-829e-4953-9970-1599f996127c",
   "metadata": {},
   "outputs": [],
   "source": [
    "weather.loc[weather.sample(frac=0.05).index, 'temperature (celsius)'] = np.nan\n",
    "weather.loc[weather.sample(frac=0.07).index, 'specific_humidity (g/kg)'] = np.nan\n",
    "weather.loc[weather.sample(frac=0.11).index, 'wind_speed (m/s)'] = np.nan"
   ]
  },
  {
   "cell_type": "code",
   "execution_count": 14,
   "id": "ec9c5986-6b7c-4bf6-a599-b121707b1056",
   "metadata": {},
   "outputs": [],
   "source": [
    "for d in [70, 80, 90, 100, 110]:\n",
    "    random_indices = weather.sample(frac=0.01).index\n",
    "    weather.loc[random_indices, 'temperature (celsius)'] = d"
   ]
  },
  {
   "cell_type": "code",
   "execution_count": 15,
   "id": "493acc98-e32b-4516-9bee-f1dbaeacff9e",
   "metadata": {},
   "outputs": [],
   "source": [
    "# Duplicate some rows\n",
    "duplicates = weather.sample(frac=0.07)\n",
    "weather = pd.concat([weather, duplicates])"
   ]
  },
  {
   "cell_type": "code",
   "execution_count": 16,
   "id": "9254559a-c19b-4296-b9a9-332cc911f05b",
   "metadata": {},
   "outputs": [],
   "source": [
    "weather = weather.sample(frac=1)"
   ]
  },
  {
   "cell_type": "code",
   "execution_count": 18,
   "id": "d09b5579-c8fd-4e8f-86cc-2a8282886bb1",
   "metadata": {},
   "outputs": [],
   "source": [
    "weather.to_csv(\"jena_climat_dataset_2009_2017.csv\")"
   ]
  },
  {
   "cell_type": "code",
   "execution_count": 17,
   "id": "9100b49f-6b80-4e4f-be32-f9128252aa42",
   "metadata": {},
   "outputs": [
    {
     "name": "stdout",
     "output_type": "stream",
     "text": [
      "<class 'pandas.core.frame.DataFrame'>\n",
      "Index: 449990 entries, 244826 to 47574\n",
      "Data columns (total 15 columns):\n",
      " #   Column                          Non-Null Count   Dtype        \n",
      "---  ------                          --------------   -----        \n",
      " 0   datetime                        449990 non-null  datetime64[s]\n",
      " 1   pressure (mbar)                 449990 non-null  float16      \n",
      " 2   temperature (celsius)           428640 non-null  float16      \n",
      " 3   potential_temperature (kelvin)  449990 non-null  float16      \n",
      " 4   dew_point (celsius)             449990 non-null  float16      \n",
      " 5   relative_humidity (%)           449990 non-null  float16      \n",
      " 6   max_vapor_pressure (mbar)       449990 non-null  float16      \n",
      " 7   actual_vapor_pressure (mbar)    449990 non-null  float16      \n",
      " 8   vapor_pressure_deficit (mbar)   449990 non-null  float16      \n",
      " 9   specific_humidity (g/kg)        418524 non-null  float16      \n",
      " 10  water_concentration (mmol/mol)  449990 non-null  float16      \n",
      " 11  air_density (g/m**3)            449990 non-null  float16      \n",
      " 12  wind_speed (m/s)                400422 non-null  float16      \n",
      " 13  max_wind_speed (m/s)            449990 non-null  float16      \n",
      " 14  wind_direction (degrees)        449990 non-null  float16      \n",
      "dtypes: datetime64[s](1), float16(14)\n",
      "memory usage: 18.9 MB\n"
     ]
    }
   ],
   "source": [
    "weather.info()"
   ]
  },
  {
   "cell_type": "code",
   "execution_count": null,
   "id": "ac6e08d7-767b-4e2a-8ea4-621836188f77",
   "metadata": {},
   "outputs": [],
   "source": []
  }
 ],
 "metadata": {
  "kernelspec": {
   "display_name": "datacamp-venv (python 3.13)",
   "language": "python",
   "name": "venv"
  },
  "language_info": {
   "codemirror_mode": {
    "name": "ipython",
    "version": 3
   },
   "file_extension": ".py",
   "mimetype": "text/x-python",
   "name": "python",
   "nbconvert_exporter": "python",
   "pygments_lexer": "ipython3",
   "version": "3.13.0"
  }
 },
 "nbformat": 4,
 "nbformat_minor": 5
}
