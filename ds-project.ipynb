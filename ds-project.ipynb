{
 "cells": [
  {
   "cell_type": "markdown",
   "metadata": {},
   "source": [
    "## This mini-project will focus on processing and replacing missing values in a dataset. \n",
    "- The dataset chosen or generated must have a sufficient number of missing values to contribute to the main objective of this project.\n",
    "- Each part in the project must be accompanied by a clear, valid, and detailed explanation, along with the corresponding code blocks.\n",
    "- Respect exactly the same number of cells. Your marks will be strongly infuenced by the respect of this structure."
   ]
  },
  {
   "cell_type": "markdown",
   "metadata": {},
   "source": [
    "---\n",
    "# 1. Choose an existing dataset or generate a synthetic one.\n",
    "- If generated, describe how you ensure the quality of the synthetic data.\n",
    "- If chosen, justify your choice, and provide a general desciption. \n",
    "- In all cases, cite your objectives, and your working plan. \n",
    "- Provide code.\n",
    "- As an objective, you may use *** simple regression model, or a clustering algorithm***. \n",
    "---"
   ]
  },
  {
   "cell_type": "markdown",
   "metadata": {},
   "source": [
    "## Answer\n",
    "\n",
    "### 1. Chosen Data:\n",
    "The data chosen is about the weather in Jena city (Germany) between 2009 and 2017. I found it in the Kaggle datasets section.\n",
    "\n",
    "### 2. Justification:\n",
    "The dataset is a rich time series dataset. It is useful for learning purposes, particularly for dealing with preprocessing, feature engineering, modeling, hypothesis testing, and drawing conclusions from insights.\n",
    "\n",
    "### 3. Data Description:\n",
    "The Jena Climate dataset is a weather time series dataset recorded at the Weather Station of the Max Planck Institute for Biogeochemistry in Jena, Germany.\n",
    "\n",
    "The dataset consists of 14 different quantities (such as air temperature, atmospheric pressure, humidity, wind direction, and more) recorded every 10 minutes over several years. This dataset covers data from January 1st, 2009, to December 31st, 2016.\n",
    "\n",
    "#### Columns Description:\n",
    "\n",
    "| Index | Feature           | Format          | Description|\n",
    "|:------|:------------------|:----------------|:-----------|\n",
    "| 1     | Date Time         | 01.01.2009 00:10:00 | Date-time reference|\n",
    "| 2     | Pressure (mbar)   | 996.52          | The pascal (SI derived unit) used to quantify internal pressure. Meteorological reports typically state atmospheric pressure in millibars. |\n",
    "| 3     | Temperature (°C)  | -8.02           | Temperature in Celsius|\n",
    "| 4     | Temperature (K)   | 265.4           | Temperature in Kelvin|\n",
    "| 5     | Dew Point (°C)    | -8.9            | Temperature in Celsius relative to humidity. The dew point is the temperature at which the air cannot hold all the moisture, causing water condensation. |\n",
    "| 6     | Relative Humidity (%) | 93.3         | Relative Humidity is a measure of how saturated the air is with water vapor; %RH indicates the water content within collection objects. |\n",
    "| 7     | Saturation Vapor Pressure (mbar) | 3.33 | Saturation vapor pressure|\n",
    "| 8     | Vapor Pressure (mbar) | 3.11        | Vapor pressure|\n",
    "| 9     | Vapor Pressure Deficit (mbar) | 0.22 | Vapor pressure deficit|\n",
    "| 10    | Specific Humidity (g/kg) | 1.94      | Specific humidity |\n",
    "| 11    | Water Vapor Concentration (mmol/mol) | 3.12 | Water vapor concentration |\n",
    "| 12    | Air Density (g/m³) | 1307.75         | Air density |\n",
    "| 13    | Wind Speed (m/s)   | 1.03            | Wind speed |\n",
    "| 14    | Maximum Wind Speed (m/s) | 1.75     | Maximum wind speed |\n",
    "| 15    | Wind Direction (°) | 152.3           | Wind direction in degrees |\n",
    "\n",
    "\n",
    "\n",
    "***Source of description:** the dataset information card. link: https://www.kaggle.com/datasets/mnassrib/jena-climate*"
   ]
  },
  {
   "cell_type": "markdown",
   "metadata": {},
   "source": [
    "### 4. Load and general understanding of the data"
   ]
  },
  {
   "cell_type": "code",
   "execution_count": 1,
   "metadata": {},
   "outputs": [
    {
     "name": "stderr",
     "output_type": "stream",
     "text": [
      "C:\\Users\\DELL\\AppData\\Local\\Temp\\ipykernel_13640\\3519586707.py:8: UserWarning: Parsing dates in %d/%m/%Y %H:%M format when dayfirst=False (the default) was specified. Pass `dayfirst=True` or specify a format to silence this warning.\n",
      "  weather['datetime'] = pd.to_datetime(weather['datetime'])\n"
     ]
    },
    {
     "name": "stdout",
     "output_type": "stream",
     "text": [
      "1. preview the dataset:  ==================================================\n",
      "datetime                          2015-03-28 06:30:00\n",
      "pressure (mbar)                                 995.5\n",
      "temperature (celsius)                            4.67\n",
      "potential_temperature (kelvin)                  278.2\n",
      "dew_point (celsius)                              1.18\n",
      "relative_humidity (%)                            78.0\n",
      "max_vapor_pressure (mbar)                        8.53\n",
      "actual_vapor_pressure (mbar)                     6.65\n",
      "vapor_pressure_deficit (mbar)                    1.88\n",
      "specific_humidity (g/kg)                         4.17\n",
      "water_concentration (mmol/mol)                   6.68\n",
      "air_density (g/m**3)                             1245\n",
      "wind_speed (m/s)                                  NaN\n",
      "max_wind_speed (m/s)                             1.24\n",
      "wind_direction (degrees)                        229.2\n",
      "Name: 1, dtype: object\n",
      "\n",
      "1. data exploration:  ==================================================\n",
      "\n",
      "a. general information about the columns\n",
      "<class 'pandas.core.frame.DataFrame'>\n",
      "RangeIndex: 449990 entries, 0 to 449989\n",
      "Data columns (total 15 columns):\n",
      " #   Column                          Non-Null Count   Dtype         \n",
      "---  ------                          --------------   -----         \n",
      " 0   datetime                        449990 non-null  datetime64[ns]\n",
      " 1   pressure (mbar)                 449990 non-null  float64       \n",
      " 2   temperature (celsius)           428640 non-null  float64       \n",
      " 3   potential_temperature (kelvin)  449990 non-null  float64       \n",
      " 4   dew_point (celsius)             449990 non-null  float64       \n",
      " 5   relative_humidity (%)           449990 non-null  float64       \n",
      " 6   max_vapor_pressure (mbar)       449990 non-null  float64       \n",
      " 7   actual_vapor_pressure (mbar)    449990 non-null  float64       \n",
      " 8   vapor_pressure_deficit (mbar)   449990 non-null  float64       \n",
      " 9   specific_humidity (g/kg)        418524 non-null  float64       \n",
      " 10  water_concentration (mmol/mol)  449990 non-null  float64       \n",
      " 11  air_density (g/m**3)            449990 non-null  int64         \n",
      " 12  wind_speed (m/s)                400422 non-null  float64       \n",
      " 13  max_wind_speed (m/s)            449990 non-null  float64       \n",
      " 14  wind_direction (degrees)        449990 non-null  float64       \n",
      "dtypes: datetime64[ns](1), float64(13), int64(1)\n",
      "memory usage: 51.5 MB\n",
      "None\n",
      "\n",
      "b. Descriptive statistics on the columns\n",
      "       temperature (celsius)  relative_humidity (%)  pressure (mbar)\n",
      "count          428640.000000          449990.000000    449990.000000\n",
      "mean               13.609974              76.005689       989.209582\n",
      "std                19.888854              16.473962         8.361174\n",
      "min               -23.020000              12.950000       913.500000\n",
      "25%                 3.720000              65.200000       984.000000\n",
      "50%                10.100000              79.300000       989.500000\n",
      "75%                16.560000              89.400000       994.500000\n",
      "max               110.000000             100.000000      1015.500000\n"
     ]
    }
   ],
   "source": [
    "import pandas as pd\n",
    "\n",
    "# load dataset\n",
    "filepath = \"dataset/jena_climat_dataset_2009_2017.csv\"\n",
    "weather = pd.read_csv(filepath)\n",
    "\n",
    "# change to datetime dtype\n",
    "weather['datetime'] = pd.to_datetime(weather['datetime']) \n",
    "\n",
    "print(\"1. preview the dataset: \", \"=\"*50)\n",
    "print(weather.loc[1])\n",
    "\n",
    "print(\"\\n1. data exploration: \", \"=\"*50)\n",
    "print(\"\\na. general information about the columns\")\n",
    "print(weather.info())\n",
    "\n",
    "print(\"\\nb. Descriptive statistics on the columns\")\n",
    "columns = [\"temperature (celsius)\", \"relative_humidity (%)\", \"pressure (mbar)\"] \n",
    "print(weather[columns].describe())"
   ]
  },
  {
   "cell_type": "markdown",
   "metadata": {},
   "source": [
    "### 5. Objective\n",
    "The primary objective is to **forecast temperature  (in degrees Celsius)** based on historical weather data. This involves leveraging the rich time series data from the Jena Climate dataset to predict future temperature values. Such forecasts can provide valuable insights for climate modeling and help in planning activities sensitive to temperature changes.\n",
    "\n",
    "\n",
    "### 6. Working Plan\n",
    "\n",
    "#### Step 1: Data Understanding and Preparation\n",
    "1. **Explore the dataset**: we did!\n",
    "2. **Handle missing values**:\n",
    "   - Identify missing values in the dataset.\n",
    "   - Employ appropriate techniques to fill or remove missing values.\n",
    "3. **Convert data types**:\n",
    "   - Ensure the `Date Time` column is in datetime format.\n",
    "   - Check and correct other columns’ types if necessary.\n",
    "4. **Feature selection**:\n",
    "   - Select relevant features for the temperature forecasting model (e.g., atmospheric pressure, humidity, wind speed).\n",
    "5. **Data splitting**:\n",
    "   - splitting the data on two parts, one for experimenting and the onther for testing.\n",
    "#### Step 2: Exploratory Data Analysis (EDA)\n",
    "1. **Correlation analysis**:\n",
    "   - Check for possible relationships between air temperature and other variables (not preferable since thoe indicators will not be available in the prediction of the future)\n",
    "2. **Visualize trends and seasonality of the target varivable**:\n",
    "   - Plot temperature over time to identify trends and seasonal patterns.\n",
    "3. **Stationarity check**:\n",
    "   - Perform stationarity tests (e.g., Augmented Dickey-Fuller test) to check if the series is suitable for forecasting.\n",
    "4. **Insights!**\n",
    "\n",
    "#### Step 3: Data Transformation\n",
    "1. **Resample the data**:\n",
    "   - Aggregate the data to a daily or hourly level if necessary to simplify the time series.\n",
    "2. **Create lag features**:\n",
    "   - Generate lag features for the target variable (e.g., temperature at t-1, t-2, etc.).\n",
    "3. **Scale the data**:\n",
    "   - Normalize or standardize the features to prepare for model training.\n",
    "\n",
    "#### Step 4: Model Selection and Training\n",
    "1. **Data preprocessing**:\n",
    "   - Aggregate the data to a daily or hourly level if necessary to simplify the time series\n",
    "   - Generate lag features for the target variable (e.g., temperature at t-1, t-2, etc.).\n",
    "   - Normalize or standardize the features to prepare for model training.\n",
    "   - Divide the dataset into training and validation sets based on time (e.g., first 80% for training, last 20% for validation).\n",
    "3. **Modeling**:\n",
    "   - Experiment with advanced timeseries models like: ARIMA, XGboost, LinearRegression.\n",
    "   - Fit the model\n",
    "   - Visualize the predictions\n",
    "   - Model evaluations metrics\n",
    "   - Hyperparameters tuning using GridSearch (to find the optimal hypermarameters values).\n",
    "   - Final: training, evaluation!\n",
    "\n",
    "#### Step 6: Forecasting and Interpretation\n",
    "1. **Generate forecasts**:\n",
    "   - Use the model to predict future temperatures.\n",
    "2. **Interpret results**:\n",
    "   - Analyze the forecast’s accuracy and reliability.\n",
    "3. **Draw insights**:\n",
    "   - Highlight key findings and potential applications of the forecast results.\n"
   ]
  },
  {
   "cell_type": "markdown",
   "metadata": {},
   "source": [
    "---\n",
    "# 2. Clean your data: \n",
    "- Evaluate the quality of data.\n",
    "- Identify relevant features.\n",
    "- Missing values or any additional operations ? (use different missing appraoches to tackle the missing values issue, create different data variants for a later comparison).   \n",
    "- statistics, check data types, conversions and more ?\n",
    "- Divide data into two parts one for experiments, another portion for validation (explain the logic of your splitting).\n",
    "---"
   ]
  },
  {
   "cell_type": "markdown",
   "metadata": {},
   "source": [
    "####  a. Explore the dataset:\n",
    "We already did! Check [*Loading an generat undestanding of the data*](#4.-Load-and-general-understanding-of-the-data)\n"
   ]
  },
  {
   "cell_type": "markdown",
   "metadata": {},
   "source": [
    "#### b. Handle missing values:\n",
    "   - Identify missing values in the dataset.\n",
    "   - Employ appropriate techniques to fill or remove missing values.\n"
   ]
  },
  {
   "cell_type": "code",
   "execution_count": 13,
   "metadata": {},
   "outputs": [
    {
     "data": {
      "text/plain": [
       "datetime                              0\n",
       "pressure (mbar)                       0\n",
       "temperature (celsius)             21350\n",
       "potential_temperature (kelvin)        0\n",
       "dew_point (celsius)                   0\n",
       "relative_humidity (%)                 0\n",
       "max_vapor_pressure (mbar)             0\n",
       "actual_vapor_pressure (mbar)          0\n",
       "vapor_pressure_deficit (mbar)         0\n",
       "specific_humidity (g/kg)          31466\n",
       "water_concentration (mmol/mol)        0\n",
       "air_density (g/m**3)                  0\n",
       "wind_speed (m/s)                  49568\n",
       "max_wind_speed (m/s)                  0\n",
       "wind_direction (degrees)              0\n",
       "dtype: int64"
      ]
     },
     "execution_count": 13,
     "metadata": {},
     "output_type": "execute_result"
    }
   ],
   "source": []
  },
  {
   "cell_type": "markdown",
   "metadata": {},
   "source": [
    "#### c. Convert data types:\n",
    "   - Ensure the `Date Time` column is in datetime format.\n",
    "   - Check and correct other columns’ types if necessary."
   ]
  },
  {
   "cell_type": "code",
   "execution_count": null,
   "metadata": {},
   "outputs": [],
   "source": []
  },
  {
   "cell_type": "markdown",
   "metadata": {},
   "source": [
    "#### d. Feature selection:\n",
    "   - Select relevant features for the temperature forecasting model (e.g., atmospheric pressure, humidity, wind speed).\n"
   ]
  },
  {
   "cell_type": "code",
   "execution_count": null,
   "metadata": {},
   "outputs": [],
   "source": []
  },
  {
   "cell_type": "markdown",
   "metadata": {},
   "source": [
    "#### e. Data splitting:\n",
    "   - splitting the data on two parts, one for experimenting and the onther for testing."
   ]
  },
  {
   "cell_type": "code",
   "execution_count": null,
   "metadata": {},
   "outputs": [],
   "source": []
  },
  {
   "cell_type": "markdown",
   "metadata": {},
   "source": [
    "---\n",
    "# 3. Exploratory Data Analyses\n",
    "- Describe the methodology you will follow to achieve your objectives, relatioships analysis ? feature engineering ? \n",
    "- Apply your appraoch, and cite your findings.\n",
    "- Draft a conclusion, and define new operations.\n",
    "- Use visaluzation to understand your findings.\n",
    "---"
   ]
  },
  {
   "cell_type": "markdown",
   "metadata": {},
   "source": [
    "#### a. Approach and methodology"
   ]
  },
  {
   "cell_type": "code",
   "execution_count": null,
   "metadata": {},
   "outputs": [],
   "source": []
  },
  {
   "cell_type": "markdown",
   "metadata": {},
   "source": [
    "#### 2. Correlation analysis:\n",
    "   - Check for possible relationships between air temperature and other variables (not preferable since thoe indicators will not be available in the prediction of the future)\n"
   ]
  },
  {
   "cell_type": "code",
   "execution_count": null,
   "metadata": {},
   "outputs": [],
   "source": []
  },
  {
   "cell_type": "markdown",
   "metadata": {},
   "source": [
    "### 3. Visualize trends and seasonality of the target varivable:\n",
    "   - Plot temperature over time to identify trends and seasonal patterns.\n"
   ]
  },
  {
   "cell_type": "code",
   "execution_count": null,
   "metadata": {},
   "outputs": [],
   "source": []
  },
  {
   "cell_type": "markdown",
   "metadata": {},
   "source": [
    "#### 5. Results!"
   ]
  },
  {
   "cell_type": "code",
   "execution_count": null,
   "metadata": {},
   "outputs": [],
   "source": []
  },
  {
   "cell_type": "markdown",
   "metadata": {},
   "source": [
    "---\n",
    "# 4. Data modeling:\n",
    "- Satisfied by your data ?\n",
    "- Run simple clustering or regression.\n",
    "- Evaluate your data modeling by choosing the right evaluatiors( clustering or regression).\n",
    "- Make visualization.\n",
    "\n",
    "---"
   ]
  },
  {
   "cell_type": "markdown",
   "metadata": {},
   "source": [
    "#### a. Data preprocessing:\n",
    "   - Aggregate the data to a daily or hourly level if necessary to simplify the time series"
   ]
  },
  {
   "cell_type": "code",
   "execution_count": null,
   "metadata": {},
   "outputs": [],
   "source": []
  },
  {
   "cell_type": "markdown",
   "metadata": {},
   "source": [
    "   - Generate lag features for the target variable (e.g., temperature at t-1, t-2, etc.)."
   ]
  },
  {
   "cell_type": "code",
   "execution_count": null,
   "metadata": {},
   "outputs": [],
   "source": []
  },
  {
   "cell_type": "markdown",
   "metadata": {},
   "source": [
    "   - Normalize or standardize the features to prepare for model training."
   ]
  },
  {
   "cell_type": "code",
   "execution_count": null,
   "metadata": {},
   "outputs": [],
   "source": []
  },
  {
   "cell_type": "markdown",
   "metadata": {},
   "source": [
    "   - Divide the dataset into training and validation sets based on time (e.g., first 80% for training, last 20% for validation)."
   ]
  },
  {
   "cell_type": "code",
   "execution_count": null,
   "metadata": {},
   "outputs": [],
   "source": []
  },
  {
   "cell_type": "markdown",
   "metadata": {},
   "source": [
    "#### b. Modeling:\n",
    "   - Experiment with advanced timeseries models like: ARIMA, XGboost, LinearRegression.\n"
   ]
  },
  {
   "cell_type": "code",
   "execution_count": null,
   "metadata": {},
   "outputs": [],
   "source": []
  },
  {
   "cell_type": "markdown",
   "metadata": {},
   "source": [
    "   - Fit the model"
   ]
  },
  {
   "cell_type": "code",
   "execution_count": null,
   "metadata": {},
   "outputs": [],
   "source": []
  },
  {
   "cell_type": "markdown",
   "metadata": {},
   "source": [
    "   - Visualize the predictions"
   ]
  },
  {
   "cell_type": "code",
   "execution_count": null,
   "metadata": {},
   "outputs": [],
   "source": []
  },
  {
   "cell_type": "markdown",
   "metadata": {},
   "source": [
    "   - Model evaluation"
   ]
  },
  {
   "cell_type": "code",
   "execution_count": null,
   "metadata": {},
   "outputs": [],
   "source": []
  },
  {
   "cell_type": "markdown",
   "metadata": {},
   "source": [
    "   - Hyperparameters tuning using GridSearch (to find the optimal hypermarameters values)."
   ]
  },
  {
   "cell_type": "code",
   "execution_count": null,
   "metadata": {},
   "outputs": [],
   "source": []
  },
  {
   "cell_type": "markdown",
   "metadata": {},
   "source": [
    "   - Final: training, evaluation!"
   ]
  },
  {
   "cell_type": "code",
   "execution_count": null,
   "metadata": {},
   "outputs": [],
   "source": []
  },
  {
   "cell_type": "markdown",
   "metadata": {},
   "source": [
    "---\n",
    "# 5. Communicate results: \n",
    "- Provide textual description of your work.\n",
    "- Use visualizations to simplify your findings, and communicate it.\n",
    "- Any decisions based on facts ?\n",
    "---"
   ]
  },
  {
   "cell_type": "code",
   "execution_count": null,
   "metadata": {},
   "outputs": [],
   "source": []
  }
 ],
 "metadata": {
  "kaggle": {
   "accelerator": "none",
   "dataSources": [
    {
     "datasetId": 6368767,
     "sourceId": 10290626,
     "sourceType": "datasetVersion"
    }
   ],
   "dockerImageVersionId": 30822,
   "isGpuEnabled": false,
   "isInternetEnabled": true,
   "language": "python",
   "sourceType": "notebook"
  },
  "kernelspec": {
   "display_name": "Python 3 (ipykernel)",
   "language": "python",
   "name": "python3"
  },
  "language_info": {
   "codemirror_mode": {
    "name": "ipython",
    "version": 3
   },
   "file_extension": ".py",
   "mimetype": "text/x-python",
   "name": "python",
   "nbconvert_exporter": "python",
   "pygments_lexer": "ipython3",
   "version": "3.13.0"
  }
 },
 "nbformat": 4,
 "nbformat_minor": 4
}
